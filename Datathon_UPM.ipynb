{
  "nbformat": 4,
  "nbformat_minor": 0,
  "metadata": {
    "colab": {
      "private_outputs": true,
      "provenance": []
    },
    "kernelspec": {
      "name": "python3",
      "display_name": "Python 3"
    },
    "language_info": {
      "name": "python"
    }
  },
  "cells": [
    {
      "cell_type": "code",
      "source": [
        "!pip install scikit-optimize"
      ],
      "metadata": {
        "id": "vChZ19tFxlFl"
      },
      "execution_count": null,
      "outputs": []
    },
    {
      "cell_type": "code",
      "source": [
        "from skopt import BayesSearchCV\n",
        "from sklearn.datasets import make_classification\n",
        "from sklearn.tree import DecisionTreeClassifier\n",
        "from sklearn.model_selection import train_test_split\n",
        "\n",
        "seed = 0\n",
        "X, y = make_classification(n_samples=25000, n_features=20, n_informative=10, n_redundant=3, n_classes=5, random_state=seed)\n",
        "X_train, X_test, y_train, y_test = train_test_split(X, y, train_size=.85, test_size=.15, random_state=seed)\n",
        "\n",
        "# log-uniform: understand as search over p = exp(x) by varying x\n",
        "opt = BayesSearchCV(\n",
        "    DecisionTreeClassifier(),\n",
        "    {\n",
        "        'ccp_alpha': (0.05, 0.5),\n",
        "        'max_depth': (3, 8),  # integer valued parameter\n",
        "        'criterion': ['gini', 'entropy', 'log_loss'],  # categorical parameter\n",
        "    },\n",
        "    n_iter=5,\n",
        "    cv=5,\n",
        "    verbose=100\n",
        ")\n",
        "\n",
        "opt.fit(X_train, y_train)\n",
        "\n",
        "print(\"val. score: %s\" % opt.best_score_)\n",
        "print(\"test score: %s\" % opt.score(X_test, y_test))\n",
        "opt.best_estimator_"
      ],
      "metadata": {
        "id": "Dw6JuSBf09ix"
      },
      "execution_count": null,
      "outputs": []
    }
  ]
}